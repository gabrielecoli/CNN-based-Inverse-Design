{
 "cells": [
  {
   "cell_type": "code",
   "execution_count": 3,
   "metadata": {},
   "outputs": [],
   "source": [
    "# import libraries\n",
    "import os\n",
    "import numpy as np\n",
    "import math\n",
    "import matplotlib.pyplot as plt\n",
    "from matplotlib import colors\n",
    "import matplotlib.path as mpath\n",
    "from matplotlib.patches import Circle\n",
    "\n",
    "import torch\n",
    "from torch import nn\n",
    "import torch.nn.functional as F\n",
    "from torch.autograd import Variable\n",
    "from torch.utils.data import DataLoader, Dataset\n",
    "\n",
    "from utils3d import Snapshot\n",
    "from utils3d import read_snapshot\n",
    "from utils3d import diffraction_pattern3d\n",
    "from utils3d import remove_center_pick\n",
    "from utils3d import process_snap\n",
    "from utils3d import rotate_snap\n",
    "from utils3d import get_var_from_np\n",
    "from utils3d import diffraction_pattern2d\n",
    "from utils3d import split_snap"
   ]
  },
  {
   "cell_type": "code",
   "execution_count": 4,
   "metadata": {},
   "outputs": [],
   "source": [
    "if not os.path.exists('./trainingset'):\n",
    "    os.mkdir('./trainingset')\n",
    "fraction = 0.8 # fraction of data to use for training"
   ]
  },
  {
   "cell_type": "markdown",
   "metadata": {},
   "source": [
    "## Dataset"
   ]
  },
  {
   "cell_type": "code",
   "execution_count": 68,
   "metadata": {},
   "outputs": [
    {
     "name": "stdout",
     "output_type": "stream",
     "text": [
      "Analyzing file: ../ISO/trial0/trajectory.rod\n",
      "Analyzing file: ../ISO/trial1/trajectory.rod\n",
      "Analyzing file: ../ISO/trial2/trajectory.rod\n",
      "Analyzing file: ../ISO/trial3/trajectory.rod\n",
      "Analyzing file: ../ISO/trial4/trajectory.rod\n",
      "isotropic examples saved!\n",
      "(4000, 1, 17, 17, 17)\n",
      "(1000, 1, 17, 17, 17)\n"
     ]
    }
   ],
   "source": [
    "# create isotropic dataset\n",
    "phase = 'ISO'\n",
    "ntraj = 5\n",
    "nsnaps = 1000\n",
    "train_data = []\n",
    "test_data = []\n",
    "nsnaps_train = int(fraction*nsnaps)\n",
    "for i in range(ntraj):\n",
    "    file_name = '../Data/' + phase + '/trial' + str(i) + '/trajectory.rod'\n",
    "    print('Analyzing file: ' + file_name)\n",
    "    file_in = open(file_name, 'r')\n",
    "    count = 0\n",
    "    while count<nsnaps:\n",
    "        snap = read_snapshot(file_in)\n",
    "#         angle = np.random.uniform(0,360)\n",
    "#         snap = rotate_snap(snap, angle=angle)\n",
    "        diff = process_snap(snap, flatten=False)\n",
    "        if count<nsnaps_train:\n",
    "            train_data.append([diff])\n",
    "        else:\n",
    "            test_data.append([diff])\n",
    "        count += 1\n",
    "    file_in.close()\n",
    "ntrain = len(train_data)\n",
    "ntest = len(test_data)\n",
    "train_data = np.array(train_data)\n",
    "test_data = np.array(test_data)\n",
    "save_path = './trainingset/iso_train.npy'\n",
    "np.save(save_path, train_data)\n",
    "save_path = './trainingset/iso_val.npy'\n",
    "np.save(save_path, test_data)\n",
    "print('isotropic examples saved!')\n",
    "print(train_data.shape)\n",
    "print(test_data.shape)"
   ]
  },
  {
   "cell_type": "code",
   "execution_count": 69,
   "metadata": {},
   "outputs": [
    {
     "name": "stdout",
     "output_type": "stream",
     "text": [
      "Analyzing file: ../SM/trial0/trajectory.rod\n",
      "Analyzing file: ../SM/trial1/trajectory.rod\n",
      "Analyzing file: ../SM/trial2/trajectory.rod\n",
      "Analyzing file: ../SM/trial3/trajectory.rod\n",
      "Analyzing file: ../SM/trial4/trajectory.rod\n",
      "smectic examples saved!\n",
      "(4000, 1, 17, 17, 17)\n",
      "(1000, 1, 17, 17, 17)\n"
     ]
    }
   ],
   "source": [
    "# create smectic dataset\n",
    "phase = 'SM'\n",
    "ntraj = 5\n",
    "nsnaps = 1000\n",
    "train_data = []\n",
    "test_data = []\n",
    "nsnaps_train = int(fraction*nsnaps)\n",
    "for i in range(ntraj):\n",
    "    file_name = '../Data/' + phase + '/trial' + str(i) + '/trajectory.rod'\n",
    "    print('Analyzing file: ' + file_name)\n",
    "    file_in = open(file_name, 'r')\n",
    "    count = 0\n",
    "    while count<nsnaps:\n",
    "        snap = read_snapshot(file_in)\n",
    "#         angle = np.random.uniform(0,360)\n",
    "#         snap = rotate_snap(snap, angle=angle)\n",
    "        diff = process_snap(snap, flatten=False)\n",
    "        if count<nsnaps_train:\n",
    "            train_data.append([diff])\n",
    "        else:\n",
    "            test_data.append([diff])\n",
    "        count += 1\n",
    "    file_in.close()\n",
    "ntrain = len(train_data)\n",
    "ntest = len(test_data)\n",
    "train_data = np.array(train_data)\n",
    "test_data = np.array(test_data)\n",
    "save_path = './trainingset/sm_train.npy'\n",
    "np.save(save_path, train_data)\n",
    "save_path = './trainingset/sm_val.npy'\n",
    "np.save(save_path, test_data)\n",
    "print('smectic examples saved!')\n",
    "print(train_data.shape)\n",
    "print(test_data.shape)"
   ]
  },
  {
   "cell_type": "code",
   "execution_count": 6,
   "metadata": {},
   "outputs": [
    {
     "name": "stdout",
     "output_type": "stream",
     "text": [
      "Analyzing file: ../SQ/trial0/trajectory.rod\n",
      "Analyzing file: ../SQ/trial1/trajectory.rod\n",
      "Analyzing file: ../SQ/trial2/trajectory.rod\n",
      "Analyzing file: ../SQ/trial3/trajectory.rod\n",
      "Analyzing file: ../SQ/trial4/trajectory.rod\n",
      "square examples saved!\n",
      "(4000, 1, 17, 17, 17)\n",
      "(1000, 1, 17, 17, 17)\n"
     ]
    }
   ],
   "source": [
    "# create square dataset\n",
    "phase = 'SQ'\n",
    "ntraj = 5\n",
    "nsnaps = 1000\n",
    "train_data = []\n",
    "test_data = []\n",
    "nsnaps_train = int(fraction*nsnaps)\n",
    "for i in range(ntraj):\n",
    "    file_name = '../Data/' + phase + '/trial' + str(i) + '/trajectory.rod'\n",
    "    print('Analyzing file: ' + file_name)\n",
    "    file_in = open(file_name, 'r')\n",
    "    count = 0\n",
    "    while count<1000:\n",
    "        snap = read_snapshot(file_in)\n",
    "        count += 1\n",
    "    count = 0\n",
    "    while count<nsnaps:\n",
    "        snap = read_snapshot(file_in)\n",
    "        angle = np.random.uniform(0,360)\n",
    "        snap = rotate_snap(snap, angle=angle)\n",
    "        diff = process_snap(snap, flatten=False)\n",
    "        if count<nsnaps_train:\n",
    "            train_data.append([diff])\n",
    "        else:\n",
    "            test_data.append([diff])\n",
    "        count += 1\n",
    "    file_in.close()\n",
    "ntrain = len(train_data)\n",
    "ntest = len(test_data)\n",
    "train_data = np.array(train_data)\n",
    "test_data = np.array(test_data)\n",
    "save_path = './trainingset/sq_train.npy'\n",
    "np.save(save_path, train_data)\n",
    "save_path = './trainingset/sq_val.npy'\n",
    "np.save(save_path, test_data)\n",
    "print('square examples saved!')\n",
    "print(train_data.shape)\n",
    "print(test_data.shape)"
   ]
  },
  {
   "cell_type": "code",
   "execution_count": 7,
   "metadata": {},
   "outputs": [
    {
     "name": "stdout",
     "output_type": "stream",
     "text": [
      "Analyzing file: ../HEX/trial0/trajectory.rod\n",
      "Analyzing file: ../HEX/trial1/trajectory.rod\n",
      "Analyzing file: ../HEX/trial2/trajectory.rod\n",
      "Analyzing file: ../HEX/trial3/trajectory.rod\n",
      "Analyzing file: ../HEX/trial4/trajectory.rod\n",
      "hexagonal examples saved!\n",
      "(4000, 1, 17, 17, 17)\n",
      "(1000, 1, 17, 17, 17)\n"
     ]
    }
   ],
   "source": [
    "# create hexagonal dataset\n",
    "phase = 'HEX'\n",
    "ntraj = 5\n",
    "nsnaps = 1000\n",
    "train_data = []\n",
    "test_data = []\n",
    "nsnaps_train = int(fraction*nsnaps)\n",
    "for i in range(ntraj):\n",
    "    file_name = '../Data/' + phase + '/trial' + str(i) + '/trajectory.rod'\n",
    "    print('Analyzing file: ' + file_name)\n",
    "    file_in = open(file_name, 'r')\n",
    "    count = 0\n",
    "    while count<1000:\n",
    "        snap = read_snapshot(file_in)\n",
    "        count += 1\n",
    "    count = 0\n",
    "    while count<nsnaps:\n",
    "        snap = read_snapshot(file_in)\n",
    "        angle = np.random.uniform(0,360)\n",
    "        snap = rotate_snap(snap, angle=angle)\n",
    "        diff = process_snap(snap, flatten=False)\n",
    "        if count<nsnaps_train:\n",
    "            train_data.append([diff])\n",
    "        else:\n",
    "            test_data.append([diff])\n",
    "        count += 1\n",
    "    file_in.close()\n",
    "ntrain = len(train_data)\n",
    "ntest = len(test_data)\n",
    "train_data = np.array(train_data)\n",
    "test_data = np.array(test_data)\n",
    "save_path = './trainingset/hex_train.npy'\n",
    "np.save(save_path, train_data)\n",
    "save_path = './trainingset/hex_val.npy'\n",
    "np.save(save_path, test_data)\n",
    "print('hexagonal examples saved!')\n",
    "print(train_data.shape)\n",
    "print(test_data.shape)"
   ]
  },
  {
   "cell_type": "code",
   "execution_count": 71,
   "metadata": {},
   "outputs": [
    {
     "name": "stdout",
     "output_type": "stream",
     "text": [
      "Analyzing file: ../QC12/trial0/trajectory.rod\n",
      "Analyzing file: ../QC12/trial1/trajectory.rod\n",
      "Analyzing file: ../QC12/trial2/trajectory.rod\n",
      "Analyzing file: ../QC12/trial3/trajectory.rod\n",
      "Analyzing file: ../QC12/trial4/trajectory.rod\n",
      "qc12 examples saved!\n",
      "(4000, 1, 17, 17, 17)\n",
      "(1000, 1, 17, 17, 17)\n"
     ]
    }
   ],
   "source": [
    "# create qc12 dataset\n",
    "phase = 'QC12'\n",
    "ntraj = 5\n",
    "nsnaps = 1000\n",
    "train_data = []\n",
    "test_data = []\n",
    "nsnaps_train = int(fraction*nsnaps)\n",
    "for i in range(ntraj):\n",
    "    file_name = '../Data/' + phase + '/trial' + str(i) + '/trajectory.rod'\n",
    "    print('Analyzing file: ' + file_name)\n",
    "    file_in = open(file_name, 'r')\n",
    "    count = 0\n",
    "    while count<nsnaps:\n",
    "        snap = read_snapshot(file_in)\n",
    "        angle = np.random.uniform(0,360)\n",
    "        snap = rotate_snap(snap, angle=angle)\n",
    "        diff = process_snap(snap, flatten=False)\n",
    "        if count<nsnaps_train:\n",
    "            train_data.append([diff])\n",
    "        else:\n",
    "            test_data.append([diff])\n",
    "        count += 1\n",
    "    file_in.close()\n",
    "ntrain = len(train_data)\n",
    "ntest = len(test_data)\n",
    "train_data = np.array(train_data)\n",
    "test_data = np.array(test_data)\n",
    "save_path = './trainingset/qc12_train.npy'\n",
    "np.save(save_path, train_data)\n",
    "save_path = './trainingset/qc12_val.npy'\n",
    "np.save(save_path, test_data)\n",
    "print('qc12 examples saved!')\n",
    "print(train_data.shape)\n",
    "print(test_data.shape)"
   ]
  },
  {
   "cell_type": "code",
   "execution_count": null,
   "metadata": {},
   "outputs": [],
   "source": []
  }
 ],
 "metadata": {
  "kernelspec": {
   "display_name": "Python 2",
   "language": "python",
   "name": "python2"
  },
  "language_info": {
   "codemirror_mode": {
    "name": "ipython",
    "version": 2
   },
   "file_extension": ".py",
   "mimetype": "text/x-python",
   "name": "python",
   "nbconvert_exporter": "python",
   "pygments_lexer": "ipython2",
   "version": "2.7.16"
  }
 },
 "nbformat": 4,
 "nbformat_minor": 2
}
