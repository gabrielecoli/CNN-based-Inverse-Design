{
 "cells": [
  {
   "cell_type": "code",
   "execution_count": 2,
   "metadata": {},
   "outputs": [],
   "source": [
    "# import libraries\n",
    "import os\n",
    "import numpy as np\n",
    "import math\n",
    "import matplotlib.pyplot as plt\n",
    "from matplotlib import colors\n",
    "import matplotlib.path as mpath\n",
    "from matplotlib.patches import Circle\n",
    "\n",
    "import torch\n",
    "from torch import nn\n",
    "import torch.nn.functional as F\n",
    "from torch.autograd import Variable\n",
    "from torch.utils.data import DataLoader, Dataset\n",
    "\n",
    "\n",
    "from utils import Snapshot\n",
    "from utils import read_snapshot\n",
    "from utils import show_snap\n",
    "from utils import diffraction_pattern\n",
    "from utils import remove_center_pick\n",
    "from utils import process_snap\n",
    "from utils import rotate_snap"
   ]
  },
  {
   "cell_type": "code",
   "execution_count": 3,
   "metadata": {},
   "outputs": [],
   "source": [
    "if not os.path.exists('./trainingset'):\n",
    "    os.mkdir('./trainingset')\n",
    "fraction = 0.8 # fraction of data to use for training"
   ]
  },
  {
   "cell_type": "markdown",
   "metadata": {},
   "source": [
    "## Dataset with random orientation"
   ]
  },
  {
   "cell_type": "code",
   "execution_count": 7,
   "metadata": {},
   "outputs": [
    {
     "name": "stdout",
     "output_type": "stream",
     "text": [
      "fluid examples saved!\n",
      "(8000, 1, 33, 33)\n",
      "(2000, 1, 33, 33)\n"
     ]
    }
   ],
   "source": [
    "# create fluid dataset\n",
    "phase = 'FLUID'\n",
    "ntraj = 10\n",
    "nsnaps = 1000\n",
    "fluid_train_data = []\n",
    "fluid_test_data = []\n",
    "nsnaps_train = int(fraction*nsnaps)\n",
    "for i in range(ntraj):\n",
    "    file_name = '../Data/' + phase + '/trajectory' + str(i) + '.dat'\n",
    "    file_in = open(file_name, 'r')\n",
    "    count = 0\n",
    "    while count<nsnaps:\n",
    "        snap = read_snapshot(file_in)\n",
    "#         angle = np.random.uniform(0,360)\n",
    "#         snap = rotate_snap(snap, angle=angle)\n",
    "        diff = process_snap(snap, flatten=False)\n",
    "        if count<nsnaps_train:\n",
    "            fluid_train_data.append([diff])\n",
    "        else:\n",
    "            fluid_test_data.append([diff])\n",
    "        count += 1\n",
    "    file_in.close()\n",
    "nfluid_train = len(fluid_train_data)\n",
    "nfluid_test = len(fluid_test_data)\n",
    "fluid_train_data = np.array(fluid_train_data)\n",
    "fluid_test_data = np.array(fluid_test_data)\n",
    "save_path = './trainingset/fluid_train.npy'\n",
    "np.save(save_path, fluid_train_data)\n",
    "save_path = './trainingset/fluid_val.npy'\n",
    "np.save(save_path, fluid_test_data)\n",
    "print('fluid examples saved!')\n",
    "print(fluid_train_data.shape)\n",
    "print(fluid_test_data.shape)"
   ]
  },
  {
   "cell_type": "code",
   "execution_count": 8,
   "metadata": {},
   "outputs": [
    {
     "name": "stdout",
     "output_type": "stream",
     "text": [
      "square examples saved!\n",
      "(8000, 1, 33, 33)\n",
      "(2000, 1, 33, 33)\n"
     ]
    }
   ],
   "source": [
    "# create square dataset\n",
    "phase = 'SC'\n",
    "ntraj = 10\n",
    "nsnaps = 1000\n",
    "square_train_data = []\n",
    "square_test_data = []\n",
    "nsnaps_train = int(fraction*nsnaps)\n",
    "for i in range(ntraj):\n",
    "    file_name = '../Data/' + phase + '/trajectory' + str(i) + '.dat'\n",
    "    file_in = open(file_name, 'r')\n",
    "    count = 0\n",
    "    while count<nsnaps:\n",
    "        snap = read_snapshot(file_in)\n",
    "        angle = np.random.uniform(0,360)\n",
    "        snap = rotate_snap(snap, angle=angle)\n",
    "        diff = process_snap(snap, flatten=False)\n",
    "        if count<nsnaps_train:\n",
    "            square_train_data.append([diff])\n",
    "        else:\n",
    "            square_test_data.append([diff])\n",
    "        count += 1\n",
    "    file_in.close()\n",
    "nsquare_train = len(square_train_data)\n",
    "nsquare_test = len(square_test_data)\n",
    "square_train_data = np.array(square_train_data)\n",
    "square_test_data = np.array(square_test_data)\n",
    "save_path = './trainingset/square_train_rot.npy'\n",
    "np.save(save_path, square_train_data)\n",
    "save_path = './trainingset/square_val_rot.npy'\n",
    "np.save(save_path, square_test_data)\n",
    "print('square examples saved!')\n",
    "print(square_train_data.shape)\n",
    "print(square_test_data.shape)"
   ]
  },
  {
   "cell_type": "code",
   "execution_count": 9,
   "metadata": {},
   "outputs": [
    {
     "name": "stdout",
     "output_type": "stream",
     "text": [
      "hex examples saved!\n",
      "(8000, 1, 33, 33)\n",
      "(2000, 1, 33, 33)\n"
     ]
    }
   ],
   "source": [
    "# create hexagonal dataset\n",
    "phase = 'HDH'\n",
    "ntraj = 10\n",
    "nsnaps = 500\n",
    "hex_train_data = []\n",
    "hex_test_data = []\n",
    "nsnaps_train = int(fraction*nsnaps)\n",
    "for i in range(ntraj):\n",
    "    file_name = '../Data/' + phase + '/trajectory' + str(i) + '.dat'\n",
    "    file_in = open(file_name, 'r')\n",
    "    count = 0\n",
    "    while count<nsnaps:\n",
    "        snap = read_snapshot(file_in)\n",
    "        angle = np.random.uniform(0,360)\n",
    "        snap = rotate_snap(snap, angle=angle)\n",
    "        diff = process_snap(snap, flatten=False)\n",
    "        if count<nsnaps_train:\n",
    "            hex_train_data.append([diff])\n",
    "        else:\n",
    "            hex_test_data.append([diff])\n",
    "        count += 1\n",
    "    file_in.close()\n",
    "phase = 'LDH'\n",
    "ntraj = 10\n",
    "nsnaps = 500\n",
    "nsnaps_train = int(fraction*nsnaps)\n",
    "for i in range(ntraj):\n",
    "    file_name = '../' + phase + '/trajectory' + str(i) + '.dat'\n",
    "    file_in = open(file_name, 'r')\n",
    "    count = 0\n",
    "    while count<nsnaps:\n",
    "        snap = read_snapshot(file_in)\n",
    "        angle = np.random.uniform(0,360)\n",
    "        snap = rotate_snap(snap, angle=angle)\n",
    "        diff = process_snap(snap, flatten=False)\n",
    "        if count<nsnaps_train:\n",
    "            hex_train_data.append([diff])\n",
    "        else:\n",
    "            hex_test_data.append([diff])\n",
    "        count += 1\n",
    "    file_in.close()\n",
    "nhex_train = len(hex_train_data)\n",
    "nhex_test = len(hex_test_data)\n",
    "hex_train_data = np.array(hex_train_data)\n",
    "hex_test_data = np.array(hex_test_data)\n",
    "save_path = './trainingset/hex_train_rot.npy'\n",
    "np.save(save_path, hex_train_data)\n",
    "save_path = './trainingset/hex_val_rot.npy'\n",
    "np.save(save_path, hex_test_data)\n",
    "print('hex examples saved!')\n",
    "print(hex_train_data.shape)\n",
    "print(hex_test_data.shape)"
   ]
  },
  {
   "cell_type": "code",
   "execution_count": 10,
   "metadata": {},
   "outputs": [
    {
     "name": "stdout",
     "output_type": "stream",
     "text": [
      "qc12 examples saved!\n",
      "(8000, 1, 33, 33)\n",
      "(2000, 1, 33, 33)\n"
     ]
    }
   ],
   "source": [
    "# create qc12 dataset\n",
    "phase = 'QC'\n",
    "ntraj = 10\n",
    "nsnaps = 1000\n",
    "qc_train_data = []\n",
    "qc_test_data = []\n",
    "nsnaps_train = int(fraction*nsnaps)\n",
    "for i in range(ntraj):\n",
    "    file_name = '../Data/' + phase + '/trajectory' + str(i) + '.dat'\n",
    "    file_in = open(file_name, 'r')\n",
    "    count = 0\n",
    "    while count<nsnaps:\n",
    "        snap = read_snapshot(file_in)\n",
    "        angle = np.random.uniform(0,360)\n",
    "        snap = rotate_snap(snap, angle=angle)\n",
    "        diff = process_snap(snap, flatten=False)\n",
    "        if count<nsnaps_train:\n",
    "            qc_train_data.append([diff])\n",
    "        else:\n",
    "            qc_test_data.append([diff])\n",
    "        count += 1\n",
    "    file_in.close()\n",
    "nqc_train = len(qc_train_data)\n",
    "nqc_test = len(qc_test_data)\n",
    "qc_train_data = np.array(qc_train_data)\n",
    "qc_test_data = np.array(qc_test_data)\n",
    "save_path = './trainingset/qc12_train_rot.npy'\n",
    "np.save(save_path, qc_train_data)\n",
    "save_path = './trainingset/qc12_val_rot.npy'\n",
    "np.save(save_path, qc_test_data)\n",
    "print('qc12 examples saved!')\n",
    "print(qc_train_data.shape)\n",
    "print(qc_test_data.shape)"
   ]
  },
  {
   "cell_type": "code",
   "execution_count": 5,
   "metadata": {},
   "outputs": [
    {
     "name": "stdout",
     "output_type": "stream",
     "text": [
      "qc10 examples saved!\n",
      "(8000, 1, 33, 33)\n",
      "(2000, 1, 33, 33)\n"
     ]
    }
   ],
   "source": [
    "# create qc10 dataset\n",
    "phase = 'QC10'\n",
    "ntraj = 10\n",
    "nsnaps = 1000\n",
    "qc10_train_data = []\n",
    "qc10_test_data = []\n",
    "nsnaps_train = int(fraction*nsnaps)\n",
    "for i in range(ntraj):\n",
    "    file_name = '../Data/' + phase + '/trajectory' + str(i) + '.dat'\n",
    "    file_in = open(file_name, 'r')\n",
    "    count = 0\n",
    "    while count<nsnaps:\n",
    "        snap = read_snapshot(file_in)\n",
    "        angle = np.random.uniform(0,360)\n",
    "        snap = rotate_snap(snap, angle=angle)\n",
    "        diff = process_snap(snap, flatten=False)\n",
    "        if count<nsnaps_train:\n",
    "            qc10_train_data.append([diff])\n",
    "        else:\n",
    "            qc10_test_data.append([diff])\n",
    "        count += 1\n",
    "    file_in.close()\n",
    "nqc10_train = len(qc10_train_data)\n",
    "nqc10_test = len(qc10_test_data)\n",
    "qc10_train_data = np.array(qc10_train_data)\n",
    "qc10_test_data = np.array(qc10_test_data)\n",
    "save_path = './trainingset/qc10_train_rot.npy'\n",
    "np.save(save_path, qc10_train_data)\n",
    "save_path = './trainingset/qc10_val_rot.npy'\n",
    "np.save(save_path, qc10_test_data)\n",
    "print('qc10 examples saved!')\n",
    "print(qc10_train_data.shape)\n",
    "print(qc10_test_data.shape)"
   ]
  },
  {
   "cell_type": "code",
   "execution_count": 6,
   "metadata": {},
   "outputs": [
    {
     "name": "stdout",
     "output_type": "stream",
     "text": [
      "qc18 examples saved!\n",
      "(8000, 1, 33, 33)\n",
      "(2000, 1, 33, 33)\n"
     ]
    }
   ],
   "source": [
    "# create qc18 dataset\n",
    "phase = 'QC18'\n",
    "ntraj = 10\n",
    "nsnaps = 1000\n",
    "qc18_train_data = []\n",
    "qc18_test_data = []\n",
    "nsnaps_train = int(fraction*nsnaps)\n",
    "for i in range(ntraj):\n",
    "    file_name = '../Data/' + phase + '/trajectory' + str(i) + '.dat'\n",
    "    file_in = open(file_name, 'r')\n",
    "    count = 0\n",
    "    while count<nsnaps:\n",
    "        snap = read_snapshot(file_in)\n",
    "        angle = np.random.uniform(0,360)\n",
    "        snap = rotate_snap(snap, angle=angle)\n",
    "        diff = process_snap(snap, flatten=False)\n",
    "        if count<nsnaps_train:\n",
    "            qc18_train_data.append([diff])\n",
    "        else:\n",
    "            qc18_test_data.append([diff])\n",
    "        count += 1\n",
    "    file_in.close()\n",
    "nqc18_train = len(qc18_train_data)\n",
    "nqc18_test = len(qc18_test_data)\n",
    "qc18_train_data = np.array(qc18_train_data)\n",
    "qc18_test_data = np.array(qc18_test_data)\n",
    "save_path = './trainingset/qc18_train_rot.npy'\n",
    "np.save(save_path, qc18_train_data)\n",
    "save_path = './trainingset/qc18_val_rot.npy'\n",
    "np.save(save_path, qc18_test_data)\n",
    "print('qc18 examples saved!')\n",
    "print(qc18_train_data.shape)\n",
    "print(qc18_test_data.shape)"
   ]
  },
  {
   "cell_type": "code",
   "execution_count": null,
   "metadata": {},
   "outputs": [],
   "source": []
  }
 ],
 "metadata": {
  "kernelspec": {
   "display_name": "Python 2",
   "language": "python",
   "name": "python2"
  },
  "language_info": {
   "codemirror_mode": {
    "name": "ipython",
    "version": 2
   },
   "file_extension": ".py",
   "mimetype": "text/x-python",
   "name": "python",
   "nbconvert_exporter": "python",
   "pygments_lexer": "ipython2",
   "version": "2.7.16"
  }
 },
 "nbformat": 4,
 "nbformat_minor": 2
}
